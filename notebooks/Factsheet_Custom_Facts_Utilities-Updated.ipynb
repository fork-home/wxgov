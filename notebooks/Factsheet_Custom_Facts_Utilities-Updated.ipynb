
<!DOCTYPE html>
<html lang="en" data-color-mode="auto" data-light-theme="light" data-dark-theme="dark" data-a11y-animated-images="system">
  <head>
    <meta charset="utf-8">



  <title>Initiating SAML single sign-on</title>
  <meta http-equiv="refresh" content="0;url=https://login.w3.ibm.com/saml/sps/saml20ip/saml20/login?RelayState=yqgAOytP2tqfEhk54M_Ayb3nDeZ2wIgnrDCYZCljCheEBqwIprUL0eYVzn7XtMx4m5l8Isi5d98jGXi8RDNiKRiEfPEPNSSDYlIFd5fREx4&amp;SAMLRequest=fZLLbtswEEX3%2BQqBe%2BtBKbZFWA6UGEUNpLEQO1l0U1DkyCYgkSqHctq%2FLy07aIo02RGjM9Q9M1zc%2FOra4AgWldEFScKY3CyvFsi7tmfl4A76EX4OgC7wnEY2fijIYDUzHBUyzTtA5gTblt%2FuGQ1j1lvjjDAtedPyeQdHBOt8ABKsVwX5MY95k6WxzPmcz2Q8nYPIZcNhms6EnNGc0nRa17RJfZ2KpJnN4xxkklxDk9NrCf4axAHWGh3XriA0ptkkziY03SUzRjOWZt9J8Pwq7SOQYOUdleZurByc65FFUWv2SocvaajqLhSmi04uEfY4Hmis%2BsvhTJ7%2BW3kZdYSCNLxFn6S6TONWaan0%2FvNB1GcI2dfdrppUm%2B2OBOXrcO6MxqEDuwV7VAKeHu%2F%2FBt0rdxjqf2OKM0%2BW4zbZOBK7%2FH%2FHInrLXNb%2F4POtV5VplfgdlG1rXu4scOfdnB282hdjO%2B4%2BNkrCZKwoOWlGlA0aexCqUSBJdMnltaQ6%2BWHwYNwteBQ%2BWpkHNnpjy8aBfcfkI%2BOvjd6%2F3uXVHw%3D%3D&amp;SigAlg=http%3A%2F%2Fwww.w3.org%2F2001%2F04%2Fxmldsig-more%23rsa-sha256&amp;Signature=mzpQvgnO3SqlPRO3kgrVVVy4u4JyyljJ5pHlxZyftX83ataAkUlNWvZS8To32y%2F3xP2%2BcIH6hZxPXwyrPDTMQHTS6eo0PwEa5KH7mbRXwd%2Fdf5XaL5ry2ty2SdA3ogH%2BJ%2FKT8kX5sSLAmBst%2BVln1mtdrY2EVGB86LkLLE5UztVvGmxRQUAjZld80WPmda8kpnLn3VCMDXx8NXBqwHCToD8qzP6aEhSl4Je5I2sBcy5r3hd1s432l3HZmUmBcYWJS8VANrUpP7FjW82XJHqfWAuGfJ6l0sXfMYfwI%2B2K9L63AL592aRGiQtcVhfrIPugH2i%2BuBVfjhfwokCi920rjtdrHllZ8sqiVHFUO7Or3EMNRL%2BACAZAN2yt5MlFN20NPvNi0C1hznulPXE0liBiK3C35mwHdfM3ZuwxIdxRap8eA4YrSnZBs1uoR7wxwV6h9VtUgmy5Ju0gNUFB%2FCr%2FGwBQ9Zgf4vwihoVZ5yIxldb9faqWjJWr1Vo%2BNjAsdEc0NWOmwuTf%2Bo18OPliKn%2F8nZ%2BknHcccF6u6FIvNjxS1A79ZXx1Aftk1L6JdNDldyXrwPorLhmPSrhbpDc0wiazigx2LjC0wEddEZ4XCrfZKN8z8fcvxy5I9gPG1FgvCBqwsWebBH8xnbrckKJmVYcc2THypWRoUB7o%2F%2FLegQm6Ofk%3D" data-url="https://login.w3.ibm.com/saml/sps/saml20ip/saml20/login?RelayState=yqgAOytP2tqfEhk54M_Ayb3nDeZ2wIgnrDCYZCljCheEBqwIprUL0eYVzn7XtMx4m5l8Isi5d98jGXi8RDNiKRiEfPEPNSSDYlIFd5fREx4&amp;SAMLRequest=fZLLbtswEEX3%2BQqBe%2BtBKbZFWA6UGEUNpLEQO1l0U1DkyCYgkSqHctq%2FLy07aIo02RGjM9Q9M1zc%2FOra4AgWldEFScKY3CyvFsi7tmfl4A76EX4OgC7wnEY2fijIYDUzHBUyzTtA5gTblt%2FuGQ1j1lvjjDAtedPyeQdHBOt8ABKsVwX5MY95k6WxzPmcz2Q8nYPIZcNhms6EnNGc0nRa17RJfZ2KpJnN4xxkklxDk9NrCf4axAHWGh3XriA0ptkkziY03SUzRjOWZt9J8Pwq7SOQYOUdleZurByc65FFUWv2SocvaajqLhSmi04uEfY4Hmis%2BsvhTJ7%2BW3kZdYSCNLxFn6S6TONWaan0%2FvNB1GcI2dfdrppUm%2B2OBOXrcO6MxqEDuwV7VAKeHu%2F%2FBt0rdxjqf2OKM0%2BW4zbZOBK7%2FH%2FHInrLXNb%2F4POtV5VplfgdlG1rXu4scOfdnB282hdjO%2B4%2BNkrCZKwoOWlGlA0aexCqUSBJdMnltaQ6%2BWHwYNwteBQ%2BWpkHNnpjy8aBfcfkI%2BOvjd6%2F3uXVHw%3D%3D&amp;SigAlg=http%3A%2F%2Fwww.w3.org%2F2001%2F04%2Fxmldsig-more%23rsa-sha256&amp;Signature=mzpQvgnO3SqlPRO3kgrVVVy4u4JyyljJ5pHlxZyftX83ataAkUlNWvZS8To32y%2F3xP2%2BcIH6hZxPXwyrPDTMQHTS6eo0PwEa5KH7mbRXwd%2Fdf5XaL5ry2ty2SdA3ogH%2BJ%2FKT8kX5sSLAmBst%2BVln1mtdrY2EVGB86LkLLE5UztVvGmxRQUAjZld80WPmda8kpnLn3VCMDXx8NXBqwHCToD8qzP6aEhSl4Je5I2sBcy5r3hd1s432l3HZmUmBcYWJS8VANrUpP7FjW82XJHqfWAuGfJ6l0sXfMYfwI%2B2K9L63AL592aRGiQtcVhfrIPugH2i%2BuBVfjhfwokCi920rjtdrHllZ8sqiVHFUO7Or3EMNRL%2BACAZAN2yt5MlFN20NPvNi0C1hznulPXE0liBiK3C35mwHdfM3ZuwxIdxRap8eA4YrSnZBs1uoR7wxwV6h9VtUgmy5Ju0gNUFB%2FCr%2FGwBQ9Zgf4vwihoVZ5yIxldb9faqWjJWr1Vo%2BNjAsdEc0NWOmwuTf%2Bo18OPliKn%2F8nZ%2BknHcccF6u6FIvNjxS1A79ZXx1Aftk1L6JdNDldyXrwPorLhmPSrhbpDc0wiazigx2LjC0wEddEZ4XCrfZKN8z8fcvxy5I9gPG1FgvCBqwsWebBH8xnbrckKJmVYcc2THypWRoUB7o%2F%2FLegQm6Ofk%3D">
  <meta name="viewport" content="width=device-width">
  <link crossorigin="use-credentials" media="all" rel="stylesheet" href="https://assets.github.ibm.com/assets/light-719f1193e0c0.css" /><link crossorigin="use-credentials" media="all" rel="stylesheet" href="https://assets.github.ibm.com/assets/dark-0c343b529849.css" /><link data-color-theme="dark_dimmed" crossorigin="use-credentials" media="all" rel="stylesheet" data-href="https://assets.github.ibm.com/assets/dark_dimmed-f22da508b62a.css" /><link data-color-theme="dark_high_contrast" crossorigin="use-credentials" media="all" rel="stylesheet" data-href="https://assets.github.ibm.com/assets/dark_high_contrast-188ef1de59e6.css" /><link data-color-theme="dark_colorblind" crossorigin="use-credentials" media="all" rel="stylesheet" data-href="https://assets.github.ibm.com/assets/dark_colorblind-bc6bf4eea850.css" /><link data-color-theme="light_colorblind" crossorigin="use-credentials" media="all" rel="stylesheet" data-href="https://assets.github.ibm.com/assets/light_colorblind-527658dec362.css" /><link data-color-theme="light_high_contrast" crossorigin="use-credentials" media="all" rel="stylesheet" data-href="https://assets.github.ibm.com/assets/light_high_contrast-c7a7fe0cd8ec.css" /><link data-color-theme="light_tritanopia" crossorigin="use-credentials" media="all" rel="stylesheet" data-href="https://assets.github.ibm.com/assets/light_tritanopia-6aa855bdae0f.css" /><link data-color-theme="dark_tritanopia" crossorigin="use-credentials" media="all" rel="stylesheet" data-href="https://assets.github.ibm.com/assets/dark_tritanopia-6aa5e25aacc0.css" />
  <link crossorigin="use-credentials" media="all" rel="stylesheet" href="https://assets.github.ibm.com/assets/primer-cd5f115a3ed9.css" />
  <link crossorigin="use-credentials" media="all" rel="stylesheet" href="https://assets.github.ibm.com/assets/global-987c9b823215.css" />



  <link rel="mask-icon" href="https://assets.github.ibm.com/pinned-octocat.svg" color="#000000">
  <link rel="alternate icon" class="js-site-favicon" type="image/png" href="https://assets.github.ibm.com/favicons/favicon-ent.png">
  <link rel="icon" class="js-site-favicon" type="image/svg+xml" href="https://assets.github.ibm.com/favicons/favicon-ent.svg">

<meta name="theme-color" content="#1e2327">
<meta name="color-scheme" content="light dark" />


  <link rel="manifest" href="/manifest.json" crossOrigin="use-credentials">

  </head>

  <body  style="word-wrap: break-word;">
      
  
<div class="container-md px-3">
  <div data-view-component="true" class="blankslate mt-5">
    <svg aria-hidden="true" height="24" viewBox="0 0 24 24" version="1.1" width="24" data-view-component="true" class="octicon octicon-shield-lock blankslate-icon">
    <path fill-rule="evenodd" d="M12.077 2.563a.25.25 0 00-.154 0L3.673 5.24a.249.249 0 00-.173.237V10.5c0 5.461 3.28 9.483 8.43 11.426a.2.2 0 00.14 0c5.15-1.943 8.43-5.965 8.43-11.426V5.476a.25.25 0 00-.173-.237l-8.25-2.676zm-.617-1.426a1.75 1.75 0 011.08 0l8.25 2.675A1.75 1.75 0 0122 5.476V10.5c0 6.19-3.77 10.705-9.401 12.83a1.699 1.699 0 01-1.198 0C5.771 21.204 2 16.69 2 10.5V5.476c0-.76.49-1.43 1.21-1.664l8.25-2.675zM13 12.232A2 2 0 0012 8.5a2 2 0 00-1 3.732V15a1 1 0 102 0v-2.768z"></path>
</svg>
    <h3 data-view-component="true" class="mb-1">You are being redirected to your identity provider in order to authenticate.</h3>
  
    <p>
      If your browser does not redirect you back, please <a id="redirect" href="https://login.w3.ibm.com/saml/sps/saml20ip/saml20/login?RelayState=yqgAOytP2tqfEhk54M_Ayb3nDeZ2wIgnrDCYZCljCheEBqwIprUL0eYVzn7XtMx4m5l8Isi5d98jGXi8RDNiKRiEfPEPNSSDYlIFd5fREx4&amp;SAMLRequest=fZLLbtswEEX3%2BQqBe%2BtBKbZFWA6UGEUNpLEQO1l0U1DkyCYgkSqHctq%2FLy07aIo02RGjM9Q9M1zc%2FOra4AgWldEFScKY3CyvFsi7tmfl4A76EX4OgC7wnEY2fijIYDUzHBUyzTtA5gTblt%2FuGQ1j1lvjjDAtedPyeQdHBOt8ABKsVwX5MY95k6WxzPmcz2Q8nYPIZcNhms6EnNGc0nRa17RJfZ2KpJnN4xxkklxDk9NrCf4axAHWGh3XriA0ptkkziY03SUzRjOWZt9J8Pwq7SOQYOUdleZurByc65FFUWv2SocvaajqLhSmi04uEfY4Hmis%2BsvhTJ7%2BW3kZdYSCNLxFn6S6TONWaan0%2FvNB1GcI2dfdrppUm%2B2OBOXrcO6MxqEDuwV7VAKeHu%2F%2FBt0rdxjqf2OKM0%2BW4zbZOBK7%2FH%2FHInrLXNb%2F4POtV5VplfgdlG1rXu4scOfdnB282hdjO%2B4%2BNkrCZKwoOWlGlA0aexCqUSBJdMnltaQ6%2BWHwYNwteBQ%2BWpkHNnpjy8aBfcfkI%2BOvjd6%2F3uXVHw%3D%3D&amp;SigAlg=http%3A%2F%2Fwww.w3.org%2F2001%2F04%2Fxmldsig-more%23rsa-sha256&amp;Signature=mzpQvgnO3SqlPRO3kgrVVVy4u4JyyljJ5pHlxZyftX83ataAkUlNWvZS8To32y%2F3xP2%2BcIH6hZxPXwyrPDTMQHTS6eo0PwEa5KH7mbRXwd%2Fdf5XaL5ry2ty2SdA3ogH%2BJ%2FKT8kX5sSLAmBst%2BVln1mtdrY2EVGB86LkLLE5UztVvGmxRQUAjZld80WPmda8kpnLn3VCMDXx8NXBqwHCToD8qzP6aEhSl4Je5I2sBcy5r3hd1s432l3HZmUmBcYWJS8VANrUpP7FjW82XJHqfWAuGfJ6l0sXfMYfwI%2B2K9L63AL592aRGiQtcVhfrIPugH2i%2BuBVfjhfwokCi920rjtdrHllZ8sqiVHFUO7Or3EMNRL%2BACAZAN2yt5MlFN20NPvNi0C1hznulPXE0liBiK3C35mwHdfM3ZuwxIdxRap8eA4YrSnZBs1uoR7wxwV6h9VtUgmy5Ju0gNUFB%2FCr%2FGwBQ9Zgf4vwihoVZ5yIxldb9faqWjJWr1Vo%2BNjAsdEc0NWOmwuTf%2Bo18OPliKn%2F8nZ%2BknHcccF6u6FIvNjxS1A79ZXx1Aftk1L6JdNDldyXrwPorLhmPSrhbpDc0wiazigx2LjC0wEddEZ4XCrfZKN8z8fcvxy5I9gPG1FgvCBqwsWebBH8xnbrckKJmVYcc2THypWRoUB7o%2F%2FLegQm6Ofk%3D">click here</a> to continue.
    </p>

</div></div>


  </body>
</html>
